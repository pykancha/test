{
  "metadata": {
    "language_info": {
      "nbconvert_exporter": "python",
      "mimetype": "text/x-python",
      "version": "3.6.5",
      "name": "python",
      "codemirror_mode": {
        "name": "ipython",
        "version": 3
      },
      "file_extension": ".py",
      "pygments_lexer": "ipython3"
    },
    "kernelspec": {
      "name": "python3",
      "display_name": "Python 3",
      "language": "python"
    }
  },
  "nbformat_minor": 2,
  "nbformat": 4,
  "cells": [
    {
      "metadata": {},
      "source": [
        "# How do Academics spend their time!"
      ],
      "cell_type": "markdown"
    },
    {
      "metadata": {},
      "source": [
        "I recently joined as a CS faculty at IIT Gandhinagar. In this blog post, I wanted to highlight some of the roles that an academic has to play. I'll keep this post short with the illustration speaking it all!"
      ],
      "cell_type": "markdown"
    },
    {
      "metadata": {},
      "source": [
        "![academics-time.png](academics.jpg)"
      ],
      "cell_type": "markdown"
    }
  ]
}