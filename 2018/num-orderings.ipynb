{
  "metadata": {
    "language_info": {
      "nbconvert_exporter": "python",
      "mimetype": "text/x-python",
      "version": "3.6.5",
      "name": "python",
      "codemirror_mode": {
        "name": "ipython",
        "version": 3
      },
      "file_extension": ".py",
      "pygments_lexer": "ipython3"
    },
    "kernelspec": {
      "name": "python3",
      "display_name": "Python 3",
      "language": "python"
    }
  },
  "nbformat_minor": 2,
  "nbformat": 4,
  "cells": [
    {
      "metadata": {},
      "source": [
        "def f(A, B):\n",
        "    if len(A)==0:\n",
        "        return [[x] for x in B]\n",
        "    elif len(B) ==0:\n",
        "        return [[x] for x in A]\n",
        "    "
      ],
      "cell_type": "code",
      "outputs": [],
      "execution_count": 1
    },
    {
      "metadata": {},
      "source": [
        "f([1, 2], [3, 4])"
      ],
      "cell_type": "code",
      "outputs": [],
      "execution_count": 2
    },
    {
      "metadata": {},
      "source": [],
      "cell_type": "code",
      "outputs": [],
      "execution_count": null
    }
  ]
}